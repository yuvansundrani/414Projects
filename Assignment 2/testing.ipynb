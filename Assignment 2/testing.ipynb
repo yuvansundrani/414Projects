{
 "cells": [
  {
   "cell_type": "code",
   "execution_count": null,
   "metadata": {},
   "outputs": [],
   "source": [
    "import json\n",
    "import matplotlib.pyplot as plt\n",
    "\n",
    "with open('moviedata.json', 'r') as file:\n",
    "    imdb_data = json.load(file)\n"
   ]
  },
  {
   "cell_type": "code",
   "execution_count": null,
   "metadata": {},
   "outputs": [],
   "source": [
    "G = nx.DiGraph()\n",
    "\n",
    "for movie_data in imdb_data:\n",
    "    movie_id = movie_data[\"imdb_id\"] # Extracting the right data that we want to use\n",
    "    title = movie_data[\"title\"] # tjhe title\n",
    "    actors = movie_data[\"actors\"] # actors\n",
    "\n",
    "    # movie node\n",
    "    G.add_node(movie_id, title=title, year=movie_data[\"year\"])\n",
    "\n",
    "\t# Actor nodes and edges \n",
    "\n",
    "    for actor_id, actor_name in actors:\n",
    "        G.add_node(actor_id, name=actor_name)\n",
    "        G.add_edge(movie_id, actor_id)\n"
   ]
  },
  {
   "cell_type": "code",
   "execution_count": null,
   "metadata": {},
   "outputs": [],
   "source": [
    "top_actors = sorted(G.in_degree(), key=lambda x: x[1], reverse=True)[:5]\n",
    "# Thsi sorted lsit will be showing the top 5 actors by in-degree"
   ]
  },
  {
   "cell_type": "code",
   "execution_count": null,
   "metadata": {},
   "outputs": [],
   "source": [
    "# {\"imdb_id\": \"tt0035423\", \"title\": \"Kate & Leopold\", \"year\": \"2001\", \n",
    "# \"runtime\": \"118\", \"genres\": [\"Comedy\", \"Fantasy\", \"Romance\"], \"actors\": \n",
    "# [[\"nm0000212\", \"Meg Ryan\"], [\"nm0413168\", \"Hugh Jackman\"], [\"nm0000630\", \"Liev Schreiber\"], \n",
    "# [\"nm0005227\", \"Breckin Meyer\"]], \"rating\": {\"avg\": 6.4, \"votes\": 85923}}\n",
    "\n",
    "\n",
    "\n",
    "# Assuming you have a list of genres and their frequencies\n",
    "genres = [\"Comedy\", \"Drama\", \"Action\", \"Thriller\", \"Romance\"]\n",
    "frequencies = [120, 90, 80, 70, 60]\n",
    "\n",
    "plt.bar(genres, frequencies, color='skyblue')\n",
    "plt.xlabel('Genres')\n",
    "plt.ylabel('Frequency')\n",
    "plt.title('Genre Distribution')\n",
    "plt.show()\n"
   ]
  }
 ],
 "metadata": {
  "kernelspec": {
   "display_name": "Python 3",
   "language": "python",
   "name": "python3"
  },
  "language_info": {
   "codemirror_mode": {
    "name": "ipython",
    "version": 3
   },
   "file_extension": ".py",
   "mimetype": "text/x-python",
   "name": "python",
   "nbconvert_exporter": "python",
   "pygments_lexer": "ipython3",
   "version": "3.10.11"
  },
  "orig_nbformat": 4
 },
 "nbformat": 4,
 "nbformat_minor": 2
}
