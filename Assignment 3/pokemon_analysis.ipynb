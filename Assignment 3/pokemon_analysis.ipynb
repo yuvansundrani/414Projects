{
 "cells": [
  {
   "cell_type": "code",
   "execution_count": 43,
   "metadata": {},
   "outputs": [],
   "source": [
    "import pandas as pd\n",
    "from sklearn.metrics.pairwise import cosine_similarity\n",
    "from sklearn.decomposition import PCA\n",
    "from sklearn.preprocessing import StandardScaler"
   ]
  },
  {
   "cell_type": "code",
   "execution_count": 44,
   "metadata": {},
   "outputs": [],
   "source": [
    "data = pd.read_csv('Pokemon.csv')\n",
    "\n",
    "# Extract relevant columns\n",
    "features = ['Attack', 'Defense', 'Sp. Atk']\n",
    "X_scaled = data[['Attack', 'Defense', 'Sp. Atk']].values\n",
    "\n",
    "# Normalize the data\n",
    "scaler = StandardScaler()\n"
   ]
  },
  {
   "cell_type": "code",
   "execution_count": 45,
   "metadata": {},
   "outputs": [],
   "source": [
    "# Jaccard Similarity calculations\n",
    "\n",
    "def jaccard_similarity(pokemon1, pokemon2):\n",
    "    intersection = len(set(pokemon1) & set(pokemon2))\n",
    "    union = len(set(pokemon1) | set(pokemon2))\n",
    "    return intersection / union\n",
    "\n",
    "def get_top_jaccard_similar_pokemon(target_pokemon, k=10):\n",
    "    similarities = []\n",
    "    for _, row in data.iterrows():\n",
    "        if row['Name'] != 'Pikachu':  # Exclude Pikachu\n",
    "            similarity = jaccard_similarity(target_pokemon, row[features])\n",
    "            similarities.append((row['Name'], similarity))\n",
    "    return sorted(similarities, key=lambda x: x[1], reverse=True)[:k]\n",
    "\n"
   ]
  },
  {
   "cell_type": "code",
   "execution_count": 46,
   "metadata": {},
   "outputs": [],
   "source": [
    "# Cosine similarity calculations\n",
    "\n",
    "def get_top_cosine_similar_pokemon(target_pokemon, k=10):\n",
    "    similarities = []\n",
    "    for i, row in data.iterrows():\n",
    "        if row['Name'] != 'Pikachu':  # Exclude Pikachu\n",
    "            cosine_similarities = cosine_similarity([target_pokemon], [X_scaled[i]])\n",
    "            similarities.append((row['Name'], cosine_similarities[0][0]))\n",
    "    return sorted(similarities, key=lambda x: x[1], reverse=True)[:k]\n"
   ]
  },
  {
   "cell_type": "code",
   "execution_count": 47,
   "metadata": {},
   "outputs": [],
   "source": [
    "# Dimenstionality reduction calculations\n",
    "\n",
    "def get_top_pca_similar_pokemon(target_pokemon, k=10):\n",
    "    pca = PCA(n_components=2)\n",
    "    X_pca = pca.fit_transform(X_scaled)\n",
    "    target_pca = pca.transform([target_pokemon])\n",
    "    similarities = cosine_similarity(target_pca, X_pca)\n",
    "    similar_indices = similarities.argsort()[0][::-1][:k]\n",
    "    return [(data.iloc[i]['Name'], similarities[0][i]) for i in similar_indices]\n"
   ]
  },
  {
   "cell_type": "code",
   "execution_count": 48,
   "metadata": {},
   "outputs": [
    {
     "name": "stdout",
     "output_type": "stream",
     "text": [
      "Top 10 Pokemon most similar to Pikachu using Jaccardian Similarity:\n",
      "('Venonat', 1.0)\n",
      "('Spheal', 1.0)\n",
      "('Poliwag', 0.6666666666666666)\n",
      "('Meditite', 0.6666666666666666)\n",
      "('Baltoy', 0.6666666666666666)\n",
      "('Tympole', 0.6666666666666666)\n",
      "('Minccino', 0.6666666666666666)\n",
      "('Pidgeotto', 0.5)\n",
      "('Vulpix', 0.5)\n",
      "('Oddish', 0.5)\n",
      "\n",
      "Top 10 Pokemon most similar to Pikachu using Cosine Similarity:\n",
      "('Arcanine', 0.9999999999999998)\n",
      "('Pikachu', 0.9999999999999998)\n",
      "('Carnivine', 0.9999876429704545)\n",
      "('LandorusIncarnate Forme', 0.9999655764081966)\n",
      "('Eelektross', 0.9998153860669443)\n",
      "('Basculin', 0.9998032107511514)\n",
      "('Skiddo', 0.9997726633774969)\n",
      "('Ho-oh', 0.9994796962966362)\n",
      "('Meowth', 0.9994120174077237)\n",
      "('Seismitoad', 0.9992498439462307)\n",
      "\n",
      "Top 10 Pokemon most similar to Pikachu using Dimensionality Reduction (PCA):\n",
      "('Pikachu', 1.0)\n",
      "('Castform', 0.9999990105064577)\n",
      "('Tympole', 0.9999945882848786)\n",
      "('Spritzee', 0.9999871595613217)\n",
      "('Gothita', 0.9999717367769587)\n",
      "('Voltorb', 0.9999717367769587)\n",
      "('Vulpix', 0.999966160626034)\n",
      "('Noibat', 0.9999526758732243)\n",
      "('Ledian', 0.9999374220844135)\n",
      "('Spheal', 0.9998820234627133)\n"
     ]
    }
   ],
   "source": [
    "pikachu_stats = data[data['Name'] == 'Pikachu'][['Attack', 'Defense', 'Sp. Atk']].values[0].tolist()\n",
    "\n",
    "top_jaccard_similar = get_top_jaccard_similar_pokemon(pikachu_stats)\n",
    "top_cosine_similar = get_top_cosine_similar_pokemon(pikachu_stats)\n",
    "top_pca_similar = get_top_pca_similar_pokemon(pikachu_stats)\n",
    "\n",
    "print(\"Top 10 Pokemon most similar to Pikachu using Jaccardian Similarity:\")\n",
    "for elem in top_jaccard_similar:\n",
    "    print(elem)\n",
    "\n",
    "print(\"\\nTop 10 Pokemon most similar to Pikachu using Cosine Similarity:\")\n",
    "for elem in top_cosine_similar:\n",
    "    print(elem)\n",
    "\n",
    "print(\"\\nTop 10 Pokemon most similar to Pikachu using Dimensionality Reduction (PCA):\")\n",
    "for elem in top_pca_similar:\n",
    "    print(elem)\n"
   ]
  }
 ],
 "metadata": {
  "kernelspec": {
   "display_name": "Python 3",
   "language": "python",
   "name": "python3"
  },
  "language_info": {
   "codemirror_mode": {
    "name": "ipython",
    "version": 3
   },
   "file_extension": ".py",
   "mimetype": "text/x-python",
   "name": "python",
   "nbconvert_exporter": "python",
   "pygments_lexer": "ipython3",
   "version": "3.10.11"
  }
 },
 "nbformat": 4,
 "nbformat_minor": 2
}
