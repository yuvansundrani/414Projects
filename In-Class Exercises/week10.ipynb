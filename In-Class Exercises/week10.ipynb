{
 "cells": [
  {
   "cell_type": "code",
   "execution_count": null,
   "metadata": {},
   "outputs": [],
   "source": [
    "import json\n",
    "import pandas as pd\n",
    "import numpy as np\n",
    "from sklearn.cluster import KMeans\n",
    "from sklearn.metrics import silhouette_score\n",
    "import matplotlib.pyplot as plt\n",
    "\n",
    "actor_name_map = {}\n",
    "movie_actor_map = {}\n",
    "actor_genre_map = {}\n",
    "\n",
    "with open(\"imdb_movies_2000to2022.prolific.json\", \"r\") as df:\n",
    "    for line in df:\n",
    "        \n",
    "        this_movie = json.loads(line)\n",
    "                    \n",
    "        # Add all actors to the id->name map\n",
    "        for actor_id,actor_name in this_movie['actors']:\n",
    "            actor_name_map[actor_id] = actor_name\n",
    "            \n",
    "        # For each actor, add this movie's genres to that actor's list\n",
    "        for actor_id,actor_name in this_movie['actors']:\n",
    "            this_actors_genres = actor_genre_map.get(actor_id, {})\n",
    "            \n",
    "            # Increment the count of genres for this actor\n",
    "            for g in this_movie[\"genres\"]:\n",
    "                this_actors_genres[g] = this_actors_genres.get(g, 0) + 1\n",
    "                \n",
    "            actor_genre_map[actor_id] = this_actors_genres\n",
    "    \n",
    "        movie_actor_map[this_movie[\"imdb_id\"]] = ({\n",
    "            \"movie\": this_movie[\"title\"],\n",
    "            \"actors\": set([item[0] for item in this_movie['actors']]),\n",
    "            \"genres\": this_movie[\"genres\"]\n",
    "        })\n",
    "\n",
    "df = pd.DataFrame(actor_genre_map).T.fillna(0)\n",
    "\n",
    "df\n"
   ]
  },
  {
   "cell_type": "code",
   "execution_count": null,
   "metadata": {},
   "outputs": [],
   "source": [
    "points =[]\n",
    "for k in range(2,32):\n",
    "    lables = KMeans(n_clusters=k).fit_predict(df)\n",
    "    score = silhouette_score(df,lables)\n",
    "    points.append(score)\n",
    "\n",
    "plt.plot(range(2 , 32) , points)\n",
    "plt.xlabel('Number Of Clusters')\n",
    "plt.ylabel('Silhouette Score')\n",
    "plt.title('Silhouette Scores for Different Values of k')\n",
    "plt.show()\n",
    "\n",
    "optimal_k = 10\n",
    "\n",
    "\n",
    "kmeans_optimal = KMeans(n_clusters=optimal_k).fit_predict(df)\n"
   ]
  },
  {
   "cell_type": "code",
   "execution_count": null,
   "metadata": {},
   "outputs": [],
   "source": [
    "import numpy as np\n",
    "\n",
    "#Add the cluster labels as a column in the dataframe\n",
    "df['cluster'] = kmeans_optimal\n",
    "for cluster, actors in df.groupby('cluster'):\n",
    "    print(\"Cluster:\", cluster, \"Size:\", actors.shape[0])\n",
    "    for a_id in actors.sample(5).index:\n",
    "        print(\"\\t\", a_id, actor_name_map[a_id])"
   ]
  }
 ],
 "metadata": {
  "language_info": {
   "name": "python"
  }
 },
 "nbformat": 4,
 "nbformat_minor": 2
}
