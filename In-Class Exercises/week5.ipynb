{
 "cells": [
  {
   "cell_type": "code",
   "execution_count": 3,
   "metadata": {},
   "outputs": [
    {
     "ename": "SyntaxError",
     "evalue": "invalid syntax (2218049841.py, line 22)",
     "output_type": "error",
     "traceback": [
      "\u001b[0;36m  Cell \u001b[0;32mIn[3], line 22\u001b[0;36m\u001b[0m\n\u001b[0;31m    this_actors_genres[g] = this_actors_genres.get(g, 0) x + 1\u001b[0m\n\u001b[0m                                                         ^\u001b[0m\n\u001b[0;31mSyntaxError\u001b[0m\u001b[0;31m:\u001b[0m invalid syntax\n"
     ]
    }
   ],
   "source": [
    "import pandas as pdimport \n",
    "import json\n",
    "\n",
    "actor_name_map = {}\n",
    "movie_actor_map = {}\n",
    "actor_genre_map = {}\n",
    "\n",
    "with open(\"imdb_movies_2000to2022.prolific.json\", \"r\") as in_file:\n",
    "    for line in in_file:\n",
    "        this_movie = json.loads(line)\n",
    "        \n",
    "        print(this_movie[\"year\"])        \n",
    "        \n",
    "        for actor_id, actor_name in this_movie['actors']:\n",
    "            actor_name_map[actor_id] = actor_name\n",
    "            \n",
    "            this_actors_genres = actor_genre_map.get(actor_id, {})\n",
    "            \n",
    "            \n",
    "            for g in this_movie[\"genres\"]:\n",
    "                \n",
    "                this_actors_genres[g] = this_actors_genres.get(g, 0) x + 1\n",
    "                \n",
    "            actor_genre_map[actor_id] = this_actors_genres\n",
    "            \n",
    "        movie_actor_map[this_movie[\"imdb_id\"]] = {\n",
    "            \"movie\": this_movie[\"title\"],\n",
    "            \n",
    "            \n",
    "            \"actors\": {item[0] for item in this_movie['actors']},\n",
    "            \n",
    "            \"genres\": this_movie[\"genres\"]\n",
    "        }\n"
   ]
  },
  {
   "cell_type": "markdown",
   "metadata": {},
   "source": []
  }
 ],
 "metadata": {
  "kernelspec": {
   "display_name": "Python 3",
   "language": "python",
   "name": "python3"
  },
  "language_info": {
   "codemirror_mode": {
    "name": "ipython",
    "version": 3
   },
   "file_extension": ".py",
   "mimetype": "text/x-python",
   "name": "python",
   "nbconvert_exporter": "python",
   "pygments_lexer": "ipython3",
   "version": "3.10.11"
  },
  "orig_nbformat": 4
 },
 "nbformat": 4,
 "nbformat_minor": 2
}
