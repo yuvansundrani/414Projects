{
 "cells": [
  {
   "cell_type": "markdown",
   "id": "56fb9ab7",
   "metadata": {},
   "source": [
    "# Probabilities and k-Means Clustering\n",
    "\n",
    "Using the IMDB data, construct a feature matrix, and apply `k-Means` to the data to extract clusters. \n",
    "\n",
    "We then inspect various aspects of probability associated with these clusterings."
   ]
  },
  {
   "cell_type": "code",
   "execution_count": 45,
   "id": "0be2c95c",
   "metadata": {},
   "outputs": [],
   "source": [
    "import json\n",
    "\n",
    "import pandas as pd\n",
    "import numpy as np"
   ]
  },
  {
   "cell_type": "code",
   "execution_count": null,
   "id": "32201009",
   "metadata": {},
   "outputs": [],
   "source": []
  },
  {
   "cell_type": "code",
   "execution_count": 47,
   "id": "14fb3d0a",
   "metadata": {},
   "outputs": [
    {
     "ename": "JSONDecodeError",
     "evalue": "Expecting property name enclosed in double quotes: line 2 column 1 (char 3)",
     "output_type": "error",
     "traceback": [
      "\u001b[0;31m---------------------------------------------------------------------------\u001b[0m",
      "\u001b[0;31mJSONDecodeError\u001b[0m                           Traceback (most recent call last)",
      "\u001b[1;32m/Users/yuvansundrani/Documents/414Projects/In-Class Exercises/week8.ipynb Cell 4\u001b[0m line \u001b[0;36m1\n\u001b[1;32m      <a href='vscode-notebook-cell:/Users/yuvansundrani/Documents/414Projects/In-Class%20Exercises/week8.ipynb#W3sZmlsZQ%3D%3D?line=5'>6</a>\u001b[0m \u001b[39mwith\u001b[39;00m \u001b[39mopen\u001b[39m(\u001b[39m\"\u001b[39m\u001b[39mimdb_movies_2000to2022.prolific.json\u001b[39m\u001b[39m\"\u001b[39m, \u001b[39m\"\u001b[39m\u001b[39mr\u001b[39m\u001b[39m\"\u001b[39m) \u001b[39mas\u001b[39;00m in_file:\n\u001b[1;32m      <a href='vscode-notebook-cell:/Users/yuvansundrani/Documents/414Projects/In-Class%20Exercises/week8.ipynb#W3sZmlsZQ%3D%3D?line=6'>7</a>\u001b[0m     \u001b[39mfor\u001b[39;00m line \u001b[39min\u001b[39;00m in_file:\n\u001b[1;32m      <a href='vscode-notebook-cell:/Users/yuvansundrani/Documents/414Projects/In-Class%20Exercises/week8.ipynb#W3sZmlsZQ%3D%3D?line=7'>8</a>\u001b[0m         \n\u001b[1;32m      <a href='vscode-notebook-cell:/Users/yuvansundrani/Documents/414Projects/In-Class%20Exercises/week8.ipynb#W3sZmlsZQ%3D%3D?line=8'>9</a>\u001b[0m         \u001b[39m# Read the movie on this line and parse its json\u001b[39;00m\n\u001b[0;32m---> <a href='vscode-notebook-cell:/Users/yuvansundrani/Documents/414Projects/In-Class%20Exercises/week8.ipynb#W3sZmlsZQ%3D%3D?line=9'>10</a>\u001b[0m         this_movie \u001b[39m=\u001b[39m json\u001b[39m.\u001b[39;49mloads(line)\n\u001b[1;32m     <a href='vscode-notebook-cell:/Users/yuvansundrani/Documents/414Projects/In-Class%20Exercises/week8.ipynb#W3sZmlsZQ%3D%3D?line=11'>12</a>\u001b[0m         \u001b[39m# Add all actors to the id->name map\u001b[39;00m\n\u001b[1;32m     <a href='vscode-notebook-cell:/Users/yuvansundrani/Documents/414Projects/In-Class%20Exercises/week8.ipynb#W3sZmlsZQ%3D%3D?line=12'>13</a>\u001b[0m         \u001b[39mfor\u001b[39;00m actor_id,actor_name \u001b[39min\u001b[39;00m this_movie[\u001b[39m'\u001b[39m\u001b[39mactors\u001b[39m\u001b[39m'\u001b[39m]:\n",
      "File \u001b[0;32m/Library/Frameworks/Python.framework/Versions/3.10/lib/python3.10/json/__init__.py:346\u001b[0m, in \u001b[0;36mloads\u001b[0;34m(s, cls, object_hook, parse_float, parse_int, parse_constant, object_pairs_hook, **kw)\u001b[0m\n\u001b[1;32m    341\u001b[0m     s \u001b[39m=\u001b[39m s\u001b[39m.\u001b[39mdecode(detect_encoding(s), \u001b[39m'\u001b[39m\u001b[39msurrogatepass\u001b[39m\u001b[39m'\u001b[39m)\n\u001b[1;32m    343\u001b[0m \u001b[39mif\u001b[39;00m (\u001b[39mcls\u001b[39m \u001b[39mis\u001b[39;00m \u001b[39mNone\u001b[39;00m \u001b[39mand\u001b[39;00m object_hook \u001b[39mis\u001b[39;00m \u001b[39mNone\u001b[39;00m \u001b[39mand\u001b[39;00m\n\u001b[1;32m    344\u001b[0m         parse_int \u001b[39mis\u001b[39;00m \u001b[39mNone\u001b[39;00m \u001b[39mand\u001b[39;00m parse_float \u001b[39mis\u001b[39;00m \u001b[39mNone\u001b[39;00m \u001b[39mand\u001b[39;00m\n\u001b[1;32m    345\u001b[0m         parse_constant \u001b[39mis\u001b[39;00m \u001b[39mNone\u001b[39;00m \u001b[39mand\u001b[39;00m object_pairs_hook \u001b[39mis\u001b[39;00m \u001b[39mNone\u001b[39;00m \u001b[39mand\u001b[39;00m \u001b[39mnot\u001b[39;00m kw):\n\u001b[0;32m--> 346\u001b[0m     \u001b[39mreturn\u001b[39;00m _default_decoder\u001b[39m.\u001b[39;49mdecode(s)\n\u001b[1;32m    347\u001b[0m \u001b[39mif\u001b[39;00m \u001b[39mcls\u001b[39m \u001b[39mis\u001b[39;00m \u001b[39mNone\u001b[39;00m:\n\u001b[1;32m    348\u001b[0m     \u001b[39mcls\u001b[39m \u001b[39m=\u001b[39m JSONDecoder\n",
      "File \u001b[0;32m/Library/Frameworks/Python.framework/Versions/3.10/lib/python3.10/json/decoder.py:337\u001b[0m, in \u001b[0;36mJSONDecoder.decode\u001b[0;34m(self, s, _w)\u001b[0m\n\u001b[1;32m    332\u001b[0m \u001b[39mdef\u001b[39;00m \u001b[39mdecode\u001b[39m(\u001b[39mself\u001b[39m, s, _w\u001b[39m=\u001b[39mWHITESPACE\u001b[39m.\u001b[39mmatch):\n\u001b[1;32m    333\u001b[0m \u001b[39m    \u001b[39m\u001b[39m\"\"\"Return the Python representation of ``s`` (a ``str`` instance\u001b[39;00m\n\u001b[1;32m    334\u001b[0m \u001b[39m    containing a JSON document).\u001b[39;00m\n\u001b[1;32m    335\u001b[0m \n\u001b[1;32m    336\u001b[0m \u001b[39m    \"\"\"\u001b[39;00m\n\u001b[0;32m--> 337\u001b[0m     obj, end \u001b[39m=\u001b[39m \u001b[39mself\u001b[39;49m\u001b[39m.\u001b[39;49mraw_decode(s, idx\u001b[39m=\u001b[39;49m_w(s, \u001b[39m0\u001b[39;49m)\u001b[39m.\u001b[39;49mend())\n\u001b[1;32m    338\u001b[0m     end \u001b[39m=\u001b[39m _w(s, end)\u001b[39m.\u001b[39mend()\n\u001b[1;32m    339\u001b[0m     \u001b[39mif\u001b[39;00m end \u001b[39m!=\u001b[39m \u001b[39mlen\u001b[39m(s):\n",
      "File \u001b[0;32m/Library/Frameworks/Python.framework/Versions/3.10/lib/python3.10/json/decoder.py:353\u001b[0m, in \u001b[0;36mJSONDecoder.raw_decode\u001b[0;34m(self, s, idx)\u001b[0m\n\u001b[1;32m    344\u001b[0m \u001b[39m\u001b[39m\u001b[39m\"\"\"Decode a JSON document from ``s`` (a ``str`` beginning with\u001b[39;00m\n\u001b[1;32m    345\u001b[0m \u001b[39ma JSON document) and return a 2-tuple of the Python\u001b[39;00m\n\u001b[1;32m    346\u001b[0m \u001b[39mrepresentation and the index in ``s`` where the document ended.\u001b[39;00m\n\u001b[0;32m   (...)\u001b[0m\n\u001b[1;32m    350\u001b[0m \n\u001b[1;32m    351\u001b[0m \u001b[39m\"\"\"\u001b[39;00m\n\u001b[1;32m    352\u001b[0m \u001b[39mtry\u001b[39;00m:\n\u001b[0;32m--> 353\u001b[0m     obj, end \u001b[39m=\u001b[39m \u001b[39mself\u001b[39;49m\u001b[39m.\u001b[39;49mscan_once(s, idx)\n\u001b[1;32m    354\u001b[0m \u001b[39mexcept\u001b[39;00m \u001b[39mStopIteration\u001b[39;00m \u001b[39mas\u001b[39;00m err:\n\u001b[1;32m    355\u001b[0m     \u001b[39mraise\u001b[39;00m JSONDecodeError(\u001b[39m\"\u001b[39m\u001b[39mExpecting value\u001b[39m\u001b[39m\"\u001b[39m, s, err\u001b[39m.\u001b[39mvalue) \u001b[39mfrom\u001b[39;00m \u001b[39mNone\u001b[39;00m\n",
      "\u001b[0;31mJSONDecodeError\u001b[0m: Expecting property name enclosed in double quotes: line 2 column 1 (char 3)"
     ]
    }
   ],
   "source": [
    "actor_name_map = {}\n",
    "movie_actor_map = {}\n",
    "actor_genre_map = {}\n",
    "\n",
    "\n",
    "with open(\"imdb_movies_2000to2022.prolific.json\", \"r\") as in_file:\n",
    "    for line in in_file:\n",
    "        \n",
    "        # Read the movie on this line and parse its json\n",
    "        this_movie = json.loads(line)\n",
    "                    \n",
    "        # Add all actors to the id->name map\n",
    "        for actor_id,actor_name in this_movie['actors']:\n",
    "            actor_name_map[actor_id] = actor_name\n",
    "            \n",
    "        # For each actor, add this movie's genres to that actor's list\n",
    "        for actor_id,actor_name in this_movie['actors']:\n",
    "            this_actors_genres = actor_genre_map.get(actor_id, {})\n",
    "            \n",
    "            # Increment the count of genres for this actor\n",
    "            for g in this_movie[\"genres\"]:\n",
    "                this_actors_genres[g] = this_actors_genres.get(g, 0) + 1\n",
    "                \n",
    "            # Update the map\n",
    "            actor_genre_map[actor_id] = this_actors_genres\n",
    "            \n",
    "        # Finished with this film\n",
    "        movie_actor_map[this_movie[\"imdb_id\"]] = ({\n",
    "            \"movie\": this_movie[\"title\"],\n",
    "            \"actors\": set([item[0] for item in this_movie['actors']]),\n",
    "            \"genres\": this_movie[\"genres\"]\n",
    "        })"
   ]
  },
  {
   "cell_type": "code",
   "execution_count": null,
   "id": "6f78e123",
   "metadata": {},
   "outputs": [
    {
     "name": "stdout",
     "output_type": "stream",
     "text": [
      "Known Actors: 33609\n",
      "Known Movies: 33609\n"
     ]
    }
   ],
   "source": [
    "print(\"Known Actors:\", len(actor_name_map))\n",
    "print(\"Known Movies:\", len(movie_actor_map))"
   ]
  },
  {
   "cell_type": "markdown",
   "id": "53438797",
   "metadata": {},
   "source": [
    "## Read CSV of Movies to Cluster IDs\n",
    "\n",
    "Using the provided movie-to-cluster mapping CSV file, we assess the distributions of movies per cluster and ask questions about genres and actors in each cluster."
   ]
  },
  {
   "cell_type": "code",
   "execution_count": null,
   "id": "99adcaab",
   "metadata": {},
   "outputs": [],
   "source": [
    "cluster_df = pd.read_csv(\"movie_to_cluster.csv\")"
   ]
  },
  {
   "cell_type": "code",
   "execution_count": null,
   "id": "8290713b",
   "metadata": {},
   "outputs": [
    {
     "data": {
      "text/plain": [
       "cluster\n",
       "6     3177\n",
       "0     3097\n",
       "15    1754\n",
       "13    1705\n",
       "2     1503\n",
       "12    1466\n",
       "1     1376\n",
       "3     1240\n",
       "14     893\n",
       "8      774\n",
       "10     761\n",
       "4      655\n",
       "11     640\n",
       "7      635\n",
       "5      560\n",
       "9      384\n",
       "Name: count, dtype: int64"
      ]
     },
     "execution_count": 37,
     "metadata": {},
     "output_type": "execute_result"
    }
   ],
   "source": [
    "cluster_df[\"cluster\"].value_counts()"
   ]
  },
  {
   "cell_type": "code",
   "execution_count": null,
   "id": "b6aea538",
   "metadata": {},
   "outputs": [
    {
     "data": {
      "text/html": [
       "<div>\n",
       "<style scoped>\n",
       "    .dataframe tbody tr th:only-of-type {\n",
       "        vertical-align: middle;\n",
       "    }\n",
       "\n",
       "    .dataframe tbody tr th {\n",
       "        vertical-align: top;\n",
       "    }\n",
       "\n",
       "    .dataframe thead th {\n",
       "        text-align: right;\n",
       "    }\n",
       "</style>\n",
       "<table border=\"1\" class=\"dataframe\">\n",
       "  <thead>\n",
       "    <tr style=\"text-align: right;\">\n",
       "      <th></th>\n",
       "      <th>count</th>\n",
       "    </tr>\n",
       "    <tr>\n",
       "      <th>cluster</th>\n",
       "      <th></th>\n",
       "    </tr>\n",
       "  </thead>\n",
       "  <tbody>\n",
       "    <tr>\n",
       "      <th>6</th>\n",
       "      <td>0.154074</td>\n",
       "    </tr>\n",
       "    <tr>\n",
       "      <th>0</th>\n",
       "      <td>0.150194</td>\n",
       "    </tr>\n",
       "    <tr>\n",
       "      <th>15</th>\n",
       "      <td>0.085063</td>\n",
       "    </tr>\n",
       "    <tr>\n",
       "      <th>13</th>\n",
       "      <td>0.082687</td>\n",
       "    </tr>\n",
       "    <tr>\n",
       "      <th>2</th>\n",
       "      <td>0.072890</td>\n",
       "    </tr>\n",
       "    <tr>\n",
       "      <th>12</th>\n",
       "      <td>0.071096</td>\n",
       "    </tr>\n",
       "    <tr>\n",
       "      <th>1</th>\n",
       "      <td>0.066731</td>\n",
       "    </tr>\n",
       "    <tr>\n",
       "      <th>3</th>\n",
       "      <td>0.060136</td>\n",
       "    </tr>\n",
       "    <tr>\n",
       "      <th>14</th>\n",
       "      <td>0.043307</td>\n",
       "    </tr>\n",
       "    <tr>\n",
       "      <th>8</th>\n",
       "      <td>0.037536</td>\n",
       "    </tr>\n",
       "    <tr>\n",
       "      <th>10</th>\n",
       "      <td>0.036906</td>\n",
       "    </tr>\n",
       "    <tr>\n",
       "      <th>4</th>\n",
       "      <td>0.031765</td>\n",
       "    </tr>\n",
       "    <tr>\n",
       "      <th>11</th>\n",
       "      <td>0.031038</td>\n",
       "    </tr>\n",
       "    <tr>\n",
       "      <th>7</th>\n",
       "      <td>0.030795</td>\n",
       "    </tr>\n",
       "    <tr>\n",
       "      <th>5</th>\n",
       "      <td>0.027158</td>\n",
       "    </tr>\n",
       "    <tr>\n",
       "      <th>9</th>\n",
       "      <td>0.018623</td>\n",
       "    </tr>\n",
       "  </tbody>\n",
       "</table>\n",
       "</div>"
      ],
      "text/plain": [
       "            count\n",
       "cluster          \n",
       "6        0.154074\n",
       "0        0.150194\n",
       "15       0.085063\n",
       "13       0.082687\n",
       "2        0.072890\n",
       "12       0.071096\n",
       "1        0.066731\n",
       "3        0.060136\n",
       "14       0.043307\n",
       "8        0.037536\n",
       "10       0.036906\n",
       "4        0.031765\n",
       "11       0.031038\n",
       "7        0.030795\n",
       "5        0.027158\n",
       "9        0.018623"
      ]
     },
     "execution_count": 38,
     "metadata": {},
     "output_type": "execute_result"
    }
   ],
   "source": [
    "cluster_pr_map = {cluster_id:cluster_pr for cluster_id,cluster_pr in (cluster_df[\"cluster\"].value_counts() / cluster_df.shape[0]).items()}\n",
    "cluster_pr_df = pd.DataFrame(cluster_df[\"cluster\"].value_counts() / cluster_df.shape[0])\n",
    "\n",
    "cluster_pr_df"
   ]
  },
  {
   "cell_type": "code",
   "execution_count": null,
   "id": "8ac44b3f",
   "metadata": {},
   "outputs": [
    {
     "data": {
      "text/html": [
       "<div>\n",
       "<style scoped>\n",
       "    .dataframe tbody tr th:only-of-type {\n",
       "        vertical-align: middle;\n",
       "    }\n",
       "\n",
       "    .dataframe tbody tr th {\n",
       "        vertical-align: top;\n",
       "    }\n",
       "\n",
       "    .dataframe thead th {\n",
       "        text-align: right;\n",
       "    }\n",
       "</style>\n",
       "<table border=\"1\" class=\"dataframe\">\n",
       "  <thead>\n",
       "    <tr style=\"text-align: right;\">\n",
       "      <th></th>\n",
       "      <th>movie_id</th>\n",
       "      <th>cluster</th>\n",
       "    </tr>\n",
       "  </thead>\n",
       "  <tbody>\n",
       "    <tr>\n",
       "      <th>11</th>\n",
       "      <td>tt0119231</td>\n",
       "      <td>0</td>\n",
       "    </tr>\n",
       "  </tbody>\n",
       "</table>\n",
       "</div>"
      ],
      "text/plain": [
       "     movie_id  cluster\n",
       "11  tt0119231        0"
      ]
     },
     "execution_count": 39,
     "metadata": {},
     "output_type": "execute_result"
    }
   ],
   "source": [
    "cluster_df[cluster_df['movie_id']== 'tt0119231']"
   ]
  },
  {
   "cell_type": "code",
   "execution_count": null,
   "id": "c2f9f0cd",
   "metadata": {},
   "outputs": [],
   "source": []
  },
  {
   "cell_type": "markdown",
   "id": "fd1790d5",
   "metadata": {},
   "source": [
    "## Assess Genre-Specific Cluster Probabilities\n",
    "\n",
    "We want to determine, for a new movie with a known genre, to which cluster is it most likely to be assigned?"
   ]
  },
  {
   "cell_type": "code",
   "execution_count": null,
   "id": "f19a7c86",
   "metadata": {},
   "outputs": [
    {
     "data": {
      "text/html": [
       "<div>\n",
       "<style scoped>\n",
       "    .dataframe tbody tr th:only-of-type {\n",
       "        vertical-align: middle;\n",
       "    }\n",
       "\n",
       "    .dataframe tbody tr th {\n",
       "        vertical-align: top;\n",
       "    }\n",
       "\n",
       "    .dataframe thead th {\n",
       "        text-align: right;\n",
       "    }\n",
       "</style>\n",
       "<table border=\"1\" class=\"dataframe\">\n",
       "  <thead>\n",
       "    <tr style=\"text-align: right;\">\n",
       "      <th></th>\n",
       "      <th>genre</th>\n",
       "      <th>probability</th>\n",
       "    </tr>\n",
       "  </thead>\n",
       "  <tbody>\n",
       "    <tr>\n",
       "      <th>0</th>\n",
       "      <td>actor_id</td>\n",
       "      <td>1.000000</td>\n",
       "    </tr>\n",
       "    <tr>\n",
       "      <th>4</th>\n",
       "      <td>Drama</td>\n",
       "      <td>0.565027</td>\n",
       "    </tr>\n",
       "    <tr>\n",
       "      <th>1</th>\n",
       "      <td>Comedy</td>\n",
       "      <td>0.371865</td>\n",
       "    </tr>\n",
       "    <tr>\n",
       "      <th>6</th>\n",
       "      <td>Thriller</td>\n",
       "      <td>0.284626</td>\n",
       "    </tr>\n",
       "    <tr>\n",
       "      <th>16</th>\n",
       "      <td>Horror</td>\n",
       "      <td>0.250915</td>\n",
       "    </tr>\n",
       "    <tr>\n",
       "      <th>7</th>\n",
       "      <td>Action</td>\n",
       "      <td>0.243209</td>\n",
       "    </tr>\n",
       "    <tr>\n",
       "      <th>9</th>\n",
       "      <td>Crime</td>\n",
       "      <td>0.191496</td>\n",
       "    </tr>\n",
       "    <tr>\n",
       "      <th>3</th>\n",
       "      <td>Romance</td>\n",
       "      <td>0.183314</td>\n",
       "    </tr>\n",
       "    <tr>\n",
       "      <th>5</th>\n",
       "      <td>Mystery</td>\n",
       "      <td>0.130501</td>\n",
       "    </tr>\n",
       "    <tr>\n",
       "      <th>11</th>\n",
       "      <td>Adventure</td>\n",
       "      <td>0.122497</td>\n",
       "    </tr>\n",
       "    <tr>\n",
       "      <th>12</th>\n",
       "      <td>Sci-Fi</td>\n",
       "      <td>0.100568</td>\n",
       "    </tr>\n",
       "    <tr>\n",
       "      <th>20</th>\n",
       "      <td>Family</td>\n",
       "      <td>0.086048</td>\n",
       "    </tr>\n",
       "    <tr>\n",
       "      <th>2</th>\n",
       "      <td>Fantasy</td>\n",
       "      <td>0.083579</td>\n",
       "    </tr>\n",
       "    <tr>\n",
       "      <th>8</th>\n",
       "      <td>Biography</td>\n",
       "      <td>0.063197</td>\n",
       "    </tr>\n",
       "    <tr>\n",
       "      <th>13</th>\n",
       "      <td>Animation</td>\n",
       "      <td>0.045613</td>\n",
       "    </tr>\n",
       "    <tr>\n",
       "      <th>21</th>\n",
       "      <td>Music</td>\n",
       "      <td>0.040138</td>\n",
       "    </tr>\n",
       "    <tr>\n",
       "      <th>18</th>\n",
       "      <td>Sport</td>\n",
       "      <td>0.039841</td>\n",
       "    </tr>\n",
       "    <tr>\n",
       "      <th>15</th>\n",
       "      <td>History</td>\n",
       "      <td>0.035913</td>\n",
       "    </tr>\n",
       "    <tr>\n",
       "      <th>17</th>\n",
       "      <td>Documentary</td>\n",
       "      <td>0.035407</td>\n",
       "    </tr>\n",
       "    <tr>\n",
       "      <th>10</th>\n",
       "      <td>War</td>\n",
       "      <td>0.023297</td>\n",
       "    </tr>\n",
       "    <tr>\n",
       "      <th>23</th>\n",
       "      <td>Western</td>\n",
       "      <td>0.020352</td>\n",
       "    </tr>\n",
       "    <tr>\n",
       "      <th>14</th>\n",
       "      <td>Musical</td>\n",
       "      <td>0.018983</td>\n",
       "    </tr>\n",
       "    <tr>\n",
       "      <th>22</th>\n",
       "      <td>Unnamed: 22</td>\n",
       "      <td>0.017466</td>\n",
       "    </tr>\n",
       "    <tr>\n",
       "      <th>19</th>\n",
       "      <td>News</td>\n",
       "      <td>0.001041</td>\n",
       "    </tr>\n",
       "    <tr>\n",
       "      <th>25</th>\n",
       "      <td>Reality-TV</td>\n",
       "      <td>0.000179</td>\n",
       "    </tr>\n",
       "    <tr>\n",
       "      <th>24</th>\n",
       "      <td>Short</td>\n",
       "      <td>0.000119</td>\n",
       "    </tr>\n",
       "  </tbody>\n",
       "</table>\n",
       "</div>"
      ],
      "text/plain": [
       "          genre  probability\n",
       "0      actor_id     1.000000\n",
       "4         Drama     0.565027\n",
       "1        Comedy     0.371865\n",
       "6      Thriller     0.284626\n",
       "16       Horror     0.250915\n",
       "7        Action     0.243209\n",
       "9         Crime     0.191496\n",
       "3       Romance     0.183314\n",
       "5       Mystery     0.130501\n",
       "11    Adventure     0.122497\n",
       "12       Sci-Fi     0.100568\n",
       "20       Family     0.086048\n",
       "2       Fantasy     0.083579\n",
       "8     Biography     0.063197\n",
       "13    Animation     0.045613\n",
       "21        Music     0.040138\n",
       "18        Sport     0.039841\n",
       "15      History     0.035913\n",
       "17  Documentary     0.035407\n",
       "10          War     0.023297\n",
       "23      Western     0.020352\n",
       "14      Musical     0.018983\n",
       "22  Unnamed: 22     0.017466\n",
       "19         News     0.001041\n",
       "25   Reality-TV     0.000179\n",
       "24        Short     0.000119"
      ]
     },
     "execution_count": 40,
     "metadata": {},
     "output_type": "execute_result"
    }
   ],
   "source": [
    "# For each genre, count the number of movies\n",
    "genre_counts = {}\n",
    "\n",
    "# For each movie, get its genres and update the genre count\n",
    "for movie_id in movie_actor_map.keys():\n",
    "    for genre in movie_actor_map[movie_id][\"genres\"]:\n",
    "        genre_counts[genre] = genre_counts.get(genre, 0) + 1\n",
    "        \n",
    "genre_prs = []\n",
    "for genre,g_count in genre_counts.items():\n",
    "    genre_prs.append((genre, g_count/len(movie_actor_map)))\n",
    "    \n",
    "genre_prs_df = pd.DataFrame(genre_prs, columns=[\"genre\", \"probability\"])\n",
    "genre_pr_map = {row[\"genre\"]:row[\"probability\"] for idx,row in genre_prs_df.iterrows()}\n",
    "\n",
    "genre_prs_df.sort_values(by=\"probability\", ascending=False)"
   ]
  },
  {
   "cell_type": "code",
   "execution_count": null,
   "id": "b8931375",
   "metadata": {},
   "outputs": [],
   "source": []
  },
  {
   "cell_type": "code",
   "execution_count": null,
   "id": "fe4bfced",
   "metadata": {},
   "outputs": [],
   "source": [
    "#Setting the genre we will be investigating\n",
    "# target_genre = \"Sci-Fi\"\n",
    "# target_genre = \"Western\"\n",
    "target_genre = \"Musical\""
   ]
  },
  {
   "cell_type": "markdown",
   "id": "fca873fa",
   "metadata": {},
   "source": [
    "### Calculate Conditional Probabilities of the given Genre for each cluster\n",
    "\n",
    "We want to calculate the conditional probability of a movie being assigned to a cluster given its genre. This probability can be calculated as follows:\n",
    "\n",
    "$$ Pr(Y=Cluster <ID> | X=Genre) = \\frac{Pr(X=Genre | Y=Cluster <ID>) Pr(Y=Cluster <ID>)}{Pr(X=Genre)}  $$\n",
    "\n",
    "We have $Pr(X=Genre)$ above via `genre_prs_df`, and we have $Pr(Y=Cluster <ID>)$ above via `cluster_pr_df`, so all we need to calculate $Pr(X=Genre | Y=Cluster <ID>)$.\n"
   ]
  },
  {
   "cell_type": "code",
   "execution_count": null,
   "id": "3101b92f",
   "metadata": {},
   "outputs": [
    {
     "ename": "KeyError",
     "evalue": "'tt0119231'",
     "output_type": "error",
     "traceback": [
      "\u001b[0;31m---------------------------------------------------------------------------\u001b[0m",
      "\u001b[0;31mKeyError\u001b[0m                                  Traceback (most recent call last)",
      "\u001b[1;32m/Users/yuvansundrani/Documents/414Projects/In-Class Exercises/week8.ipynb Cell 17\u001b[0m line \u001b[0;36m4\n\u001b[1;32m      <a href='vscode-notebook-cell:/Users/yuvansundrani/Documents/414Projects/In-Class%20Exercises/week8.ipynb#X21sZmlsZQ%3D%3D?line=0'>1</a>\u001b[0m per_cluster_prs \u001b[39m=\u001b[39m []\n\u001b[1;32m      <a href='vscode-notebook-cell:/Users/yuvansundrani/Documents/414Projects/In-Class%20Exercises/week8.ipynb#X21sZmlsZQ%3D%3D?line=1'>2</a>\u001b[0m \u001b[39mfor\u001b[39;00m cluster_id,group \u001b[39min\u001b[39;00m cluster_df\u001b[39m.\u001b[39mgroupby(\u001b[39m\"\u001b[39m\u001b[39mcluster\u001b[39m\u001b[39m\"\u001b[39m):\n\u001b[0;32m----> <a href='vscode-notebook-cell:/Users/yuvansundrani/Documents/414Projects/In-Class%20Exercises/week8.ipynb#X21sZmlsZQ%3D%3D?line=3'>4</a>\u001b[0m     this_cluster_genre_count \u001b[39m=\u001b[39m \u001b[39msum\u001b[39m([\n\u001b[1;32m      <a href='vscode-notebook-cell:/Users/yuvansundrani/Documents/414Projects/In-Class%20Exercises/week8.ipynb#X21sZmlsZQ%3D%3D?line=4'>5</a>\u001b[0m         \u001b[39m1\u001b[39m \u001b[39mif\u001b[39;00m target_genre \u001b[39min\u001b[39;00m movie_actor_map[m][\u001b[39m\"\u001b[39m\u001b[39mgenres\u001b[39m\u001b[39m\"\u001b[39m] \u001b[39melse\u001b[39;00m \u001b[39m0\u001b[39m \n\u001b[1;32m      <a href='vscode-notebook-cell:/Users/yuvansundrani/Documents/414Projects/In-Class%20Exercises/week8.ipynb#X21sZmlsZQ%3D%3D?line=5'>6</a>\u001b[0m         \u001b[39mfor\u001b[39;00m m \u001b[39min\u001b[39;00m group[\u001b[39m\"\u001b[39m\u001b[39mmovie_id\u001b[39m\u001b[39m\"\u001b[39m]\n\u001b[1;32m      <a href='vscode-notebook-cell:/Users/yuvansundrani/Documents/414Projects/In-Class%20Exercises/week8.ipynb#X21sZmlsZQ%3D%3D?line=6'>7</a>\u001b[0m     ])\n\u001b[1;32m      <a href='vscode-notebook-cell:/Users/yuvansundrani/Documents/414Projects/In-Class%20Exercises/week8.ipynb#X21sZmlsZQ%3D%3D?line=8'>9</a>\u001b[0m     \u001b[39m# Calculate conditional probability of the target genre given this cluster\u001b[39;00m\n\u001b[1;32m     <a href='vscode-notebook-cell:/Users/yuvansundrani/Documents/414Projects/In-Class%20Exercises/week8.ipynb#X21sZmlsZQ%3D%3D?line=9'>10</a>\u001b[0m     \u001b[39m## Pr(X=Genre | Y=Cluster <ID>)\u001b[39;00m\n\u001b[1;32m     <a href='vscode-notebook-cell:/Users/yuvansundrani/Documents/414Projects/In-Class%20Exercises/week8.ipynb#X21sZmlsZQ%3D%3D?line=10'>11</a>\u001b[0m     \u001b[39m# raise(\"INSERT CODE HERE\")\u001b[39;00m\n\u001b[0;32m   (...)\u001b[0m\n\u001b[1;32m     <a href='vscode-notebook-cell:/Users/yuvansundrani/Documents/414Projects/In-Class%20Exercises/week8.ipynb#X21sZmlsZQ%3D%3D?line=13'>14</a>\u001b[0m     \u001b[39m# ## so we can track this conditional probability\u001b[39;00m\n\u001b[1;32m     <a href='vscode-notebook-cell:/Users/yuvansundrani/Documents/414Projects/In-Class%20Exercises/week8.ipynb#X21sZmlsZQ%3D%3D?line=14'>15</a>\u001b[0m     \u001b[39m# raise(\"INSERT CODE HERE\")\u001b[39;00m\n",
      "\u001b[1;32m/Users/yuvansundrani/Documents/414Projects/In-Class Exercises/week8.ipynb Cell 17\u001b[0m line \u001b[0;36m5\n\u001b[1;32m      <a href='vscode-notebook-cell:/Users/yuvansundrani/Documents/414Projects/In-Class%20Exercises/week8.ipynb#X21sZmlsZQ%3D%3D?line=0'>1</a>\u001b[0m per_cluster_prs \u001b[39m=\u001b[39m []\n\u001b[1;32m      <a href='vscode-notebook-cell:/Users/yuvansundrani/Documents/414Projects/In-Class%20Exercises/week8.ipynb#X21sZmlsZQ%3D%3D?line=1'>2</a>\u001b[0m \u001b[39mfor\u001b[39;00m cluster_id,group \u001b[39min\u001b[39;00m cluster_df\u001b[39m.\u001b[39mgroupby(\u001b[39m\"\u001b[39m\u001b[39mcluster\u001b[39m\u001b[39m\"\u001b[39m):\n\u001b[1;32m      <a href='vscode-notebook-cell:/Users/yuvansundrani/Documents/414Projects/In-Class%20Exercises/week8.ipynb#X21sZmlsZQ%3D%3D?line=3'>4</a>\u001b[0m     this_cluster_genre_count \u001b[39m=\u001b[39m \u001b[39msum\u001b[39m([\n\u001b[0;32m----> <a href='vscode-notebook-cell:/Users/yuvansundrani/Documents/414Projects/In-Class%20Exercises/week8.ipynb#X21sZmlsZQ%3D%3D?line=4'>5</a>\u001b[0m         \u001b[39m1\u001b[39m \u001b[39mif\u001b[39;00m target_genre \u001b[39min\u001b[39;00m movie_actor_map[m][\u001b[39m\"\u001b[39m\u001b[39mgenres\u001b[39m\u001b[39m\"\u001b[39m] \u001b[39melse\u001b[39;00m \u001b[39m0\u001b[39m \n\u001b[1;32m      <a href='vscode-notebook-cell:/Users/yuvansundrani/Documents/414Projects/In-Class%20Exercises/week8.ipynb#X21sZmlsZQ%3D%3D?line=5'>6</a>\u001b[0m         \u001b[39mfor\u001b[39;00m m \u001b[39min\u001b[39;00m group[\u001b[39m\"\u001b[39m\u001b[39mmovie_id\u001b[39m\u001b[39m\"\u001b[39m]\n\u001b[1;32m      <a href='vscode-notebook-cell:/Users/yuvansundrani/Documents/414Projects/In-Class%20Exercises/week8.ipynb#X21sZmlsZQ%3D%3D?line=6'>7</a>\u001b[0m     ])\n\u001b[1;32m      <a href='vscode-notebook-cell:/Users/yuvansundrani/Documents/414Projects/In-Class%20Exercises/week8.ipynb#X21sZmlsZQ%3D%3D?line=8'>9</a>\u001b[0m     \u001b[39m# Calculate conditional probability of the target genre given this cluster\u001b[39;00m\n\u001b[1;32m     <a href='vscode-notebook-cell:/Users/yuvansundrani/Documents/414Projects/In-Class%20Exercises/week8.ipynb#X21sZmlsZQ%3D%3D?line=9'>10</a>\u001b[0m     \u001b[39m## Pr(X=Genre | Y=Cluster <ID>)\u001b[39;00m\n\u001b[1;32m     <a href='vscode-notebook-cell:/Users/yuvansundrani/Documents/414Projects/In-Class%20Exercises/week8.ipynb#X21sZmlsZQ%3D%3D?line=10'>11</a>\u001b[0m     \u001b[39m# raise(\"INSERT CODE HERE\")\u001b[39;00m\n\u001b[0;32m   (...)\u001b[0m\n\u001b[1;32m     <a href='vscode-notebook-cell:/Users/yuvansundrani/Documents/414Projects/In-Class%20Exercises/week8.ipynb#X21sZmlsZQ%3D%3D?line=13'>14</a>\u001b[0m     \u001b[39m# ## so we can track this conditional probability\u001b[39;00m\n\u001b[1;32m     <a href='vscode-notebook-cell:/Users/yuvansundrani/Documents/414Projects/In-Class%20Exercises/week8.ipynb#X21sZmlsZQ%3D%3D?line=14'>15</a>\u001b[0m     \u001b[39m# raise(\"INSERT CODE HERE\")\u001b[39;00m\n",
      "\u001b[0;31mKeyError\u001b[0m: 'tt0119231'"
     ]
    }
   ],
   "source": [
    "per_cluster_prs = []\n",
    "\n",
    "for cluster_id, group in cluster_df.groupby(\"cluster\"):\n",
    "\n",
    "    this_cluster_genre_count = sum([\n",
    "        1 if target_genre in movie_actor_map[m][\"genres\"] else 0\n",
    "        for m in group[\"movie_id\"]\n",
    "    ])\n",
    "\n",
    "    total_movies_in_cluster = len(group[\"movie_id\"])\n",
    "\n",
    "    # Calculate conditional probability of the target genre given this cluster\n",
    "    conditional_prob = this_cluster_genre_count / total_movies_in_cluster\n",
    "\n",
    "    # Add this calculated probability to `per_cluster_prs`\n",
    "    per_cluster_prs.append((cluster_id, conditional_prob))\n",
    "\n",
    "# Print the conditional probabilities for each cluster\n",
    "for cluster_id, prob in per_cluster_prs:\n",
    "    print(f\"Cluster {cluster_id}: P(Genre | Cluster) = {prob}\")\n"
   ]
  },
  {
   "cell_type": "code",
   "execution_count": null,
   "id": "9fcafa2a",
   "metadata": {},
   "outputs": [],
   "source": []
  },
  {
   "cell_type": "code",
   "execution_count": null,
   "id": "2120664a",
   "metadata": {},
   "outputs": [],
   "source": [
    "# For each cluster ID, calculate the posterior probability given the target genre\n",
    "for cluster_id,cluster_genre_pr in enumerate(per_cluster_prs):\n",
    "\n",
    "    # combine this cluster_genre_pr, cluster_pr_df, and genre_prs_df\n",
    "    ## to calculate Pr(Cluster|Genre)\n",
    "    pr_cluster_given_genre = raise(\"INSERT CODE HERE\")\n",
    "\n",
    "    print(\"Pr[Cluster %02d | %s]:\" % (cluster_id, target_genre), \"\\t\", pr_cluster_given_genre)\n",
    "    "
   ]
  },
  {
   "cell_type": "markdown",
   "id": "f7948e43",
   "metadata": {},
   "source": [
    "### Sample Titles in Each Cluster\n",
    "\n",
    "We can use the above conditional probabilities to determine the most likely cluster given a movie genre.\n",
    "\n",
    "Here, we sample movies in the most likely cluster to get a sense of what movies are in that cluster."
   ]
  },
  {
   "cell_type": "code",
   "execution_count": null,
   "id": "d1344723",
   "metadata": {},
   "outputs": [],
   "source": [
    "target_cluster = 6"
   ]
  },
  {
   "cell_type": "code",
   "execution_count": null,
   "id": "61e5e5fb",
   "metadata": {},
   "outputs": [],
   "source": [
    "for movie_id in cluster_df[cluster_df[\"cluster\"] == target_cluster].sample(n=10, replace=False)[\"movie_id\"]:\n",
    "    this_movie = movie_actor_map[movie_id]\n",
    "    print(movie_id, this_movie[\"movie\"], this_movie[\"genres\"])"
   ]
  },
  {
   "cell_type": "code",
   "execution_count": null,
   "id": "ebc97a26",
   "metadata": {},
   "outputs": [],
   "source": []
  },
  {
   "cell_type": "markdown",
   "id": "0c890d2e",
   "metadata": {},
   "source": [
    "## Assess Actor-Specific Cluster Probabilities\n",
    "\n",
    "Above, we determine the most likely cluster given a movie genre. Here, we ask the same question for a given actor."
   ]
  },
  {
   "cell_type": "code",
   "execution_count": null,
   "id": "d846c8c0",
   "metadata": {},
   "outputs": [],
   "source": [
    "# For each actor, count the number of movies\n",
    "actor_counts = {}\n",
    "\n",
    "# For each movie, get its genres and update the genre count\n",
    "for movie_id in movie_actor_map.keys():\n",
    "    for actor in movie_actor_map[movie_id][\"actors\"]:\n",
    "        actor_counts[actor] = actor_counts.get(actor, 0) + 1\n",
    "        \n",
    "actor_prs = []\n",
    "for actor,a_count in actor_counts.items():\n",
    "    actor_prs.append((actor, a_count/len(movie_actor_map)))\n",
    "    \n",
    "actor_prs_df = pd.DataFrame(actor_prs, columns=[\"actor\", \"probability\"])\n",
    "actor_pr_map = {row[\"actor\"]:row[\"probability\"] for idx,row in actor_prs_df.iterrows()}\n",
    "\n",
    "actor_prs_df.sort_values(by=\"probability\", ascending=False)"
   ]
  },
  {
   "cell_type": "code",
   "execution_count": null,
   "id": "28727b18",
   "metadata": {},
   "outputs": [],
   "source": [
    "#Setting the actor we will be comparing to\n",
    "# target_actor_id = 'nm1165110' # Chris Hemsworth\n",
    "# target_actor_id = 'nm0413168' # Hugh Jackman\n",
    "# target_actor_id = 'nm0005351' # Ryan Reynolds\n",
    "# target_actor_id = \"nm0000206\" # Keanu Reeves\n",
    "target_actor_id = 'nm0000115' # Nic Cage"
   ]
  },
  {
   "cell_type": "code",
   "execution_count": null,
   "id": "44b0e017",
   "metadata": {},
   "outputs": [],
   "source": [
    "per_cluster_prs = []\n",
    "for cluster_id,group in cluster_df.groupby(\"cluster\"):\n",
    "\n",
    "    this_cluster_actor_count = sum([\n",
    "        1 if target_actor_id in movie_actor_map[m][\"actors\"] else 0 \n",
    "        for m in group[\"movie_id\"]\n",
    "    ])\n",
    "    \n",
    "    # Calculate conditional probability of the target actor given this cluster\n",
    "    ## Pr(X=Actor | Y=Cluster <ID>)\n",
    "    raise(\"INSERT CODE HERE\")\n",
    "    \n",
    "    # Then add this calculated probability to `per_cluster_prs`,\n",
    "    ## so we can track this conditional probability\n",
    "    per_cluster_prs.append(raise(\"INSERT CODE HERE\"))"
   ]
  },
  {
   "cell_type": "code",
   "execution_count": null,
   "id": "24eada78",
   "metadata": {},
   "outputs": [],
   "source": [
    "# For each cluster ID, calculate the posterior probability given the target actor\n",
    "for cluster_id,cluster_actor_pr in enumerate(per_cluster_prs):\n",
    "\n",
    "    # combine this cluster_actor_pr, cluster_pr_df, and actor_prs_df\n",
    "    ## to calculate Pr(Cluster|Actor)\n",
    "    pr_cluster_given_actor = raise(\"INSERT CODE HERE\")\n",
    "\n",
    "    print(\"Pr[Cluster %02d | %s]:\" % (cluster_id, target_actor), \"\\t\", pr_cluster_given_actor)\n",
    "    "
   ]
  },
  {
   "cell_type": "code",
   "execution_count": null,
   "id": "c80bd689",
   "metadata": {},
   "outputs": [],
   "source": []
  },
  {
   "cell_type": "code",
   "execution_count": null,
   "id": "94c82f2a",
   "metadata": {},
   "outputs": [],
   "source": []
  }
 ],
 "metadata": {
  "kernelspec": {
   "display_name": "Python 3 (ipykernel)",
   "language": "python",
   "name": "python3"
  },
  "language_info": {
   "codemirror_mode": {
    "name": "ipython",
    "version": 3
   },
   "file_extension": ".py",
   "mimetype": "text/x-python",
   "name": "python",
   "nbconvert_exporter": "python",
   "pygments_lexer": "ipython3",
   "version": "3.10.11"
  }
 },
 "nbformat": 4,
 "nbformat_minor": 5
}
